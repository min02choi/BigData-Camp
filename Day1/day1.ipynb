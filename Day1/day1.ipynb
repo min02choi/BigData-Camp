{
 "cells": [
  {
   "cell_type": "code",
   "execution_count": 38,
   "metadata": {},
   "outputs": [
    {
     "name": "stdout",
     "output_type": "stream",
     "text": [
      "hulllllll!!!!!!!!!!!!!!!!!!\n"
     ]
    }
   ],
   "source": [
    "print(\"hulllllll!!!!!!!!!!!!!!!!!!\")\n",
    "# 인터프리터 설정\n",
    "# 와 미친 된다"
   ]
  },
  {
   "attachments": {},
   "cell_type": "markdown",
   "metadata": {},
   "source": [
    "가상 환경 안에서 pipenv install requests\n",
    "pipenv freeze로 제대로 설치되었는지 확인\n",
    "\n",
    "인터프리터 설정"
   ]
  },
  {
   "attachments": {},
   "cell_type": "markdown",
   "metadata": {},
   "source": [
    "### 주석(Comment)\n",
    "주석을 최대한 적게 쓰는 것이 원칙 -> 이ㅇㅇ 교수님: 코드는 친절해야 한다\n",
    "...?\n",
    "* 최대한 적게\n",
    "* 영어로 주석"
   ]
  },
  {
   "cell_type": "code",
   "execution_count": 39,
   "metadata": {},
   "outputs": [
    {
     "name": "stdout",
     "output_type": "stream",
     "text": [
      "1\n"
     ]
    }
   ],
   "source": [
    "a = 1\n",
    "\"\"\"\n",
    "여러 줄의 주석\n",
    "\"\"\"\n",
    "print(a)"
   ]
  },
  {
   "attachments": {},
   "cell_type": "markdown",
   "metadata": {},
   "source": [
    "### 한 줄 길이 제한\n",
    "* 파이썬은 한 줄에 최대 79 char 이 원칙"
   ]
  },
  {
   "cell_type": "code",
   "execution_count": 40,
   "metadata": {},
   "outputs": [],
   "source": [
    "lyrics = \"I hear the drums echoing tonight, but she hears only whispers of some quiet conversation\"\n",
    "\n",
    "# 문자가 79자보다 더 길어지는 경우\n",
    "lyrics = (\n",
    "\"I hear the drums echoing tonight, but she hears only whispers of some\"\n",
    "\" quiet conversation\"\n",
    ")"
   ]
  },
  {
   "attachments": {},
   "cell_type": "markdown",
   "metadata": {},
   "source": [
    "### 타입 검사\n",
    "타입 검사할 때는 isinstance 사용"
   ]
  },
  {
   "cell_type": "code",
   "execution_count": 41,
   "metadata": {},
   "outputs": [
    {
     "data": {
      "text/plain": [
       "True"
      ]
     },
     "execution_count": 41,
     "metadata": {},
     "output_type": "execute_result"
    }
   ],
   "source": [
    "type(3) == int      # 좋지 않음\n",
    "isinstance(3, int)  # good"
   ]
  },
  {
   "attachments": {},
   "cell_type": "markdown",
   "metadata": {},
   "source": [
    "### 변수 타입 어노테이션"
   ]
  },
  {
   "cell_type": "code",
   "execution_count": 42,
   "metadata": {},
   "outputs": [],
   "source": [
    "num: int = 1\n",
    "pi: float = 3.14\n",
    "name: str = \"John\"\n",
    "is_ok: bool = True\n",
    "nums: list = [1, 2, 3]\n",
    "pi_dict: dict = {\"pi\": 3.14}"
   ]
  },
  {
   "cell_type": "code",
   "execution_count": 43,
   "metadata": {},
   "outputs": [],
   "source": [
    "nums: list = [1, 2, 3]\n",
    "names: list = [\"John\", \"Jane\", \"Jack\"]"
   ]
  },
  {
   "cell_type": "code",
   "execution_count": 44,
   "metadata": {},
   "outputs": [],
   "source": [
    "from typing import List\n",
    "nums: List[int] = [1, 2, 3]\n",
    "names: List[str] = [\"John\", \"Jane\", \"Jack\"]"
   ]
  },
  {
   "attachments": {},
   "cell_type": "markdown",
   "metadata": {},
   "source": [
    "### 함수 타입 어노테이션"
   ]
  },
  {
   "cell_type": "code",
   "execution_count": 45,
   "metadata": {},
   "outputs": [
    {
     "data": {
      "text/plain": [
       "3.14"
      ]
     },
     "execution_count": 45,
     "metadata": {},
     "output_type": "execute_result"
    }
   ],
   "source": [
    "def add(a: int, b: int) -> int:\n",
    "    return a + b\n",
    "\n",
    "add(1, 2) # expected: 3\n",
    "# 사용자에게 명시를 해주는 것이고 막아주는 것은 아님\n",
    "add(1.0, 2.14) # expected: ?"
   ]
  },
  {
   "attachments": {},
   "cell_type": "markdown",
   "metadata": {},
   "source": [
    "## 3. 퍼포먼스"
   ]
  },
  {
   "attachments": {},
   "cell_type": "markdown",
   "metadata": {},
   "source": [
    "### 리스트의 첫 번째 원소를 제거할 때"
   ]
  },
  {
   "cell_type": "code",
   "execution_count": 46,
   "metadata": {},
   "outputs": [
    {
     "name": "stdout",
     "output_type": "stream",
     "text": [
      "Elapsed:  0.72sec\n",
      "Elapsed:  0.00sec\n"
     ]
    }
   ],
   "source": [
    "import time\n",
    "from collections import deque\n",
    "\n",
    "N = 100000\n",
    "\n",
    "# 리스트로 구현\n",
    "nums = list(range(N))\n",
    "start = time.time()\n",
    "\n",
    "while nums:\n",
    "    nums.pop(0)\n",
    "print(f\"Elapsed: {time.time() - start : .2f}sec\")\n",
    "\n",
    "# deque 로 구현\n",
    "nums = deque(list(range(N)))\n",
    "start = time.time()\n",
    "\n",
    "while nums:\n",
    "    nums.popleft()\n",
    "print(f\"Elapsed: {time.time() - start : .2f}sec\")"
   ]
  },
  {
   "attachments": {},
   "cell_type": "markdown",
   "metadata": {},
   "source": [
    "### 특정 원소가 포함되어 있는지를 검사할 때"
   ]
  },
  {
   "cell_type": "code",
   "execution_count": 47,
   "metadata": {},
   "outputs": [
    {
     "name": "stdout",
     "output_type": "stream",
     "text": [
      "False\n",
      "Elapsed:  0.05351sec\n",
      "False\n",
      "Elapsed:  0.00010sec\n"
     ]
    }
   ],
   "source": [
    "import time\n",
    "\n",
    "N = 10_000_000\n",
    "\n",
    "nums = list(range(N))\n",
    "\n",
    "start = time.time()\n",
    "print(N in nums)\n",
    "print(f\"Elapsed: {time.time() - start : .5f}sec\")\n",
    "\n",
    "nums = {i: i for i in range(N)}\n",
    "\n",
    "start = time.time()\n",
    "print(N in nums)            # 키 값에서 찾는 것\n",
    "print(f\"Elapsed: {time.time() - start : .5f}sec\")"
   ]
  },
  {
   "attachments": {},
   "cell_type": "markdown",
   "metadata": {},
   "source": [
    "### append, 리스트 컴프리헨션과 맵"
   ]
  },
  {
   "cell_type": "code",
   "execution_count": 48,
   "metadata": {},
   "outputs": [
    {
     "name": "stdout",
     "output_type": "stream",
     "text": [
      "Elapsed:  0.62sec\n",
      "Elapsed:  0.34sec\n",
      "Elapsed:  0.48sec\n"
     ]
    }
   ],
   "source": [
    "import time\n",
    "\n",
    "N = 10_000_000\n",
    "\n",
    "# 리스트\n",
    "start = time.time()\n",
    "nums = []\n",
    "for num in range(N):\n",
    "    nums.append(num ** 2)\n",
    "print(f\"Elapsed: {time.time() - start : .2f}sec\")\n",
    "\n",
    "# 리스트 컴프리헨션\n",
    "start = time.time()\n",
    "nums = [num ** 2 for num in range(N)]\n",
    "print(f\"Elapsed: {time.time() - start : .2f}sec\")\n",
    "\n",
    "# map\n",
    "start = time.time()\n",
    "nums = list(map(lambda num: num ** 2, range(N)))\n",
    "print(f\"Elapsed: {time.time() - start : .2f}sec\")"
   ]
  },
  {
   "cell_type": "code",
   "execution_count": 49,
   "metadata": {},
   "outputs": [
    {
     "data": {
      "text/plain": [
       "[0, 1, 4, 9, 16, 25, 36, 49, 64, 81]"
      ]
     },
     "execution_count": 49,
     "metadata": {},
     "output_type": "execute_result"
    }
   ],
   "source": [
    "nums = []\n",
    "for num in range(10):\n",
    "    nums.append(num ** 2)\n",
    "\n",
    "nums"
   ]
  },
  {
   "cell_type": "code",
   "execution_count": 50,
   "metadata": {},
   "outputs": [
    {
     "data": {
      "text/plain": [
       "[0, 1, 4, 9, 16, 25, 36, 49, 64, 81]"
      ]
     },
     "execution_count": 50,
     "metadata": {},
     "output_type": "execute_result"
    }
   ],
   "source": [
    "nums = [\n",
    "    num ** 2 for num in range(10)\n",
    "]\n",
    "nums"
   ]
  },
  {
   "attachments": {},
   "cell_type": "markdown",
   "metadata": {},
   "source": [
    "### 인덱스보다 enumerate"
   ]
  },
  {
   "cell_type": "code",
   "execution_count": 65,
   "metadata": {},
   "outputs": [
    {
     "name": "stdout",
     "output_type": "stream",
     "text": [
      "Elapsed:  0.09sec\n",
      "Elapsed:  0.07sec\n"
     ]
    }
   ],
   "source": [
    "import time\n",
    "\n",
    "N = 100_000\n",
    "chars = [\"a\", \"b\", \"c\", \"d\", \"e\", \"f\", \"g\", \"h\", \"i\", \"j\", \"k\", \"l\"]\n",
    "\n",
    "start = time.time()\n",
    "for _ in range(N):\n",
    "    for idx, char in enumerate(chars):\n",
    "        idx, char\n",
    "        continue\n",
    "\n",
    "print(f\"Elapsed: {time.time() - start : .2f}sec\")\n",
    "start = time.time()\n",
    "for _ in range(N):\n",
    "    for idx in range(len(chars)):\n",
    "        idx, chars[idx]\n",
    "        continue\n",
    "print(f\"Elapsed: {time.time() - start : .2f}sec\")"
   ]
  }
 ],
 "metadata": {
  "kernelspec": {
   "display_name": "BigData-Camp-9fAjOTxM",
   "language": "python",
   "name": "python3"
  },
  "language_info": {
   "codemirror_mode": {
    "name": "ipython",
    "version": 3
   },
   "file_extension": ".py",
   "mimetype": "text/x-python",
   "name": "python",
   "nbconvert_exporter": "python",
   "pygments_lexer": "ipython3",
   "version": "3.11.1"
  },
  "orig_nbformat": 4,
  "vscode": {
   "interpreter": {
    "hash": "ee33c67fd10a6d6204b9401e5fc4a817925d756a6859aea15ffeb839f1e53ff2"
   }
  }
 },
 "nbformat": 4,
 "nbformat_minor": 2
}
