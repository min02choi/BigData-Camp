{
 "cells": [
  {
   "cell_type": "markdown",
   "metadata": {},
   "source": []
  },
  {
   "cell_type": "code",
   "execution_count": 55,
   "metadata": {},
   "outputs": [
    {
     "data": {
      "text/plain": [
       "False"
      ]
     },
     "execution_count": 55,
     "metadata": {},
     "output_type": "execute_result"
    }
   ],
   "source": [
    "import requests\n",
    "from selenium import webdriver\n",
    "\n",
    "res = requests.get(\"https://www.youtube.com/watch?v=LTix5Oq3djg\")\n",
    "\"사전예약\" in res.text # False"
   ]
  },
  {
   "cell_type": "code",
   "execution_count": 56,
   "metadata": {},
   "outputs": [],
   "source": [
    "driver = webdriver.Chrome(\"chromedriver\") # 윈도우라면 chromedriver.exe"
   ]
  },
  {
   "cell_type": "code",
   "execution_count": 57,
   "metadata": {},
   "outputs": [],
   "source": [
    "import time\n",
    "from selenium.webdriver.common.by import By\n",
    "\n",
    "driver.get(\"https://google.com\")\n",
    "element = driver.find_element(\n",
    "    By.XPATH, \"/html/body/div[1]/div[3]/form/div[1]/div[1]/div[1]/div/div[2]/input\"\n",
    ")\n",
    "\n",
    "element.send_keys(\n",
    "    \"Python\\n\",\n",
    ")\n",
    "time.sleep(1)\n",
    "assert driver.current_url.startswith(\"https://www.google.com/search?q=Python\")"
   ]
  },
  {
   "attachments": {},
   "cell_type": "markdown",
   "metadata": {},
   "source": [
    "## 유튜브 검색 결과 수집하기"
   ]
  },
  {
   "cell_type": "code",
   "execution_count": 60,
   "metadata": {},
   "outputs": [],
   "source": [
    "keyword = \"떡볶이\"\n",
    "\n",
    "base_url = f\"https://www.youtube.com/results?search_query={keyword}&sp=EgIQAQ%253D%253D\"\n",
    "driver.get(base_url)\n",
    "time.sleep(10)"
   ]
  },
  {
   "cell_type": "code",
   "execution_count": 61,
   "metadata": {},
   "outputs": [],
   "source": [
    "base_xpath = \"/html/body/ytd-app/div[1]/ytd-page-manager/ytd-search/div[1]/ytd-two-column-search-results-renderer/div/ytd-section-list-renderer/div[2]/ytd-item-section-renderer/div[3]/ytd-video-renderer[1]/div[1]\"\n",
    "video_element = driver.find_element('xpath', base_xpath)"
   ]
  }
 ],
 "metadata": {
  "kernelspec": {
   "display_name": "BigData-Camp-9fAjOTxM",
   "language": "python",
   "name": "python3"
  },
  "language_info": {
   "codemirror_mode": {
    "name": "ipython",
    "version": 3
   },
   "file_extension": ".py",
   "mimetype": "text/x-python",
   "name": "python",
   "nbconvert_exporter": "python",
   "pygments_lexer": "ipython3",
   "version": "3.11.1"
  },
  "orig_nbformat": 4,
  "vscode": {
   "interpreter": {
    "hash": "ee33c67fd10a6d6204b9401e5fc4a817925d756a6859aea15ffeb839f1e53ff2"
   }
  }
 },
 "nbformat": 4,
 "nbformat_minor": 2
}
